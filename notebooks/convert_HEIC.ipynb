{
 "cells": [
  {
   "cell_type": "code",
   "execution_count": 3,
   "id": "c507a0e9",
   "metadata": {},
   "outputs": [
    {
     "name": "stdout",
     "output_type": "stream",
     "text": [
      "The autoreload extension is already loaded. To reload it, use:\n",
      "  %reload_ext autoreload\n"
     ]
    }
   ],
   "source": [
    "%load_ext autoreload\n",
    "%autoreload 2"
   ]
  },
  {
   "cell_type": "code",
   "execution_count": 4,
   "id": "5895990b",
   "metadata": {},
   "outputs": [],
   "source": [
    "import sys\n",
    "import os"
   ]
  },
  {
   "cell_type": "code",
   "execution_count": 5,
   "id": "20e9c07d",
   "metadata": {},
   "outputs": [],
   "source": [
    "sys.path.append(os.path.abspath(\"../src\"))"
   ]
  },
  {
   "cell_type": "code",
   "execution_count": 6,
   "id": "0e8b531d",
   "metadata": {},
   "outputs": [
    {
     "name": "stdout",
     "output_type": "stream",
     "text": [
      "hello world\n"
     ]
    }
   ],
   "source": [
    "from functions import hello_world\n",
    "\n",
    "hello_world()"
   ]
  },
  {
   "cell_type": "code",
   "execution_count": 7,
   "id": "7a7f061d",
   "metadata": {},
   "outputs": [],
   "source": [
    "from functions import read_HEIC_image_to_numpy\n",
    "\n",
    "image_path = r'..\\data\\202203__\\IMG_1642.HEIC'\n",
    "img = read_HEIC_image_to_numpy(image_path)"
   ]
  },
  {
   "cell_type": "code",
   "execution_count": 6,
   "id": "ecc24bd2",
   "metadata": {},
   "outputs": [],
   "source": [
    "# from functions import convert_array_image_to_other_format\n",
    "# convert_array_image_to_other_format(img, r'./saved_img', format=\"png\")"
   ]
  },
  {
   "cell_type": "code",
   "execution_count": 9,
   "id": "0d42abe5",
   "metadata": {},
   "outputs": [],
   "source": [
    "from functions import get_HEIC_filepaths \n",
    "\n",
    "main_directory_path = r'..\\data'\n",
    "dict_HEIC_filepath = get_HEIC_filepaths(main_directory_path)"
   ]
  },
  {
   "cell_type": "code",
   "execution_count": 21,
   "id": "a565517f",
   "metadata": {},
   "outputs": [],
   "source": [
    "# for dirname in dict_HEIC_filepath:\n",
    "#     for filename in dict_HEIC_filepath[dirname]:\n",
    "#         # print(f'{os.path.join(dirname, filename)}')\n",
    "#         print(f'{filename}')"
   ]
  },
  {
   "cell_type": "code",
   "execution_count": 13,
   "id": "0043b653",
   "metadata": {},
   "outputs": [
    {
     "ename": "FileExistsError",
     "evalue": "Le dossier ..\\results\\HEIC_converted_to_png existe déjà. Supprimez-le ou utilisez overwrite=True.",
     "output_type": "error",
     "traceback": [
      "\u001b[1;31m---------------------------------------------------------------------------\u001b[0m",
      "\u001b[1;31mFileExistsError\u001b[0m                           Traceback (most recent call last)",
      "Cell \u001b[1;32mIn[13], line 4\u001b[0m\n\u001b[0;32m      1\u001b[0m \u001b[38;5;28;01mfrom\u001b[39;00m\u001b[38;5;250m \u001b[39m\u001b[38;5;21;01mfunctions\u001b[39;00m\u001b[38;5;250m \u001b[39m\u001b[38;5;28;01mimport\u001b[39;00m convert_HEIC_images_to_other_format_across_subfolders\n\u001b[0;32m      3\u001b[0m directory_save_path \u001b[38;5;241m=\u001b[39m \u001b[38;5;124mr\u001b[39m\u001b[38;5;124m'\u001b[39m\u001b[38;5;124m..\u001b[39m\u001b[38;5;124m\\\u001b[39m\u001b[38;5;124mresults\u001b[39m\u001b[38;5;124m'\u001b[39m\n\u001b[1;32m----> 4\u001b[0m \u001b[43mconvert_HEIC_images_to_other_format_across_subfolders\u001b[49m\u001b[43m(\u001b[49m\u001b[43mmain_directory_path\u001b[49m\u001b[43m,\u001b[49m\u001b[43m \u001b[49m\u001b[43mdirectory_save_path\u001b[49m\u001b[43m,\u001b[49m\u001b[43m \u001b[49m\u001b[43moutput_format\u001b[49m\u001b[38;5;241;43m=\u001b[39;49m\u001b[38;5;124;43m\"\u001b[39;49m\u001b[38;5;124;43mpng\u001b[39;49m\u001b[38;5;124;43m\"\u001b[39;49m\u001b[43m)\u001b[49m\n",
      "File \u001b[1;32md:\\Documents\\convert_HEIC_images\\src\\functions.py:135\u001b[0m, in \u001b[0;36mconvert_HEIC_images_to_other_format_across_subfolders\u001b[1;34m(main_folder_path, directory_save_path, output_format, workers, overwrite)\u001b[0m\n\u001b[0;32m    133\u001b[0m         \u001b[38;5;28mprint\u001b[39m(\u001b[38;5;124mf\u001b[39m\u001b[38;5;124m\"\u001b[39m\u001b[38;5;124mLe dossier \u001b[39m\u001b[38;5;132;01m{\u001b[39;00msave_path\u001b[38;5;132;01m}\u001b[39;00m\u001b[38;5;124m existe déjà. Les fichiers seront écrasés.\u001b[39m\u001b[38;5;124m\"\u001b[39m)\n\u001b[0;32m    134\u001b[0m     \u001b[38;5;28;01melse\u001b[39;00m:\n\u001b[1;32m--> 135\u001b[0m         \u001b[38;5;28;01mraise\u001b[39;00m \u001b[38;5;167;01mFileExistsError\u001b[39;00m(\u001b[38;5;124mf\u001b[39m\u001b[38;5;124m\"\u001b[39m\u001b[38;5;124mLe dossier \u001b[39m\u001b[38;5;132;01m{\u001b[39;00msave_path\u001b[38;5;132;01m}\u001b[39;00m\u001b[38;5;124m existe déjà. Supprimez-le ou utilisez overwrite=True.\u001b[39m\u001b[38;5;124m\"\u001b[39m)\n\u001b[0;32m    136\u001b[0m \u001b[38;5;28;01melse\u001b[39;00m:\n\u001b[0;32m    137\u001b[0m     os\u001b[38;5;241m.\u001b[39mmakedirs(save_path)\n",
      "\u001b[1;31mFileExistsError\u001b[0m: Le dossier ..\\results\\HEIC_converted_to_png existe déjà. Supprimez-le ou utilisez overwrite=True."
     ]
    }
   ],
   "source": [
    "from functions import convert_HEIC_images_to_other_format_across_subfolders\n",
    "\n",
    "directory_save_path = r'..\\results'\n",
    "convert_HEIC_images_to_other_format_across_subfolders(main_directory_path, directory_save_path, output_format=\"png\")"
   ]
  }
 ],
 "metadata": {
  "kernelspec": {
   "display_name": "convert_HEIC_env",
   "language": "python",
   "name": "python3"
  },
  "language_info": {
   "codemirror_mode": {
    "name": "ipython",
    "version": 3
   },
   "file_extension": ".py",
   "mimetype": "text/x-python",
   "name": "python",
   "nbconvert_exporter": "python",
   "pygments_lexer": "ipython3",
   "version": "3.9.23"
  }
 },
 "nbformat": 4,
 "nbformat_minor": 5
}
